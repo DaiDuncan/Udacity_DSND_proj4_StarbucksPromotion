{
 "cells": [
  {
   "cell_type": "markdown",
   "metadata": {},
   "source": [
    "## Dataset I. target_dataset\n",
    "<br>\n",
    "<img src=\"./images/target_dataset.png\"/>\n",
    "\n",
    "Explanation for the columns:\n",
    "1. `person` (int)\n",
    "    - Id for person: already encoded to int number\n",
    "2. `offer_id` (object of str)\n",
    "    - Id for offer: already encoded to int number\n",
    "    - **Values**: from '0' to '9'\n",
    "3. `time_received` (float)\n",
    "    - time of reveiving the offer\n",
    "    - **Values**: `NaN` represent not received\n",
    "4. `time_viewed` (float) \n",
    "    - time of viewing the offer\n",
    "    - **Values**: `NaN` represent not viewed\n",
    "5. `time_transaction` (object of str)\n",
    "    - time of the transactions within an transaction unit(within one unique offer_id of one person, there may be more transaction units)\n",
    "    - **Values**: there maybe more than one transactions within a transaction unit, so use `str`(obeject) to represent\n",
    "        - `''` means there is no transaction\n",
    "        - `',3.8,5.9'` means there is two transactions, one is at time 3.8, another in at time 5.9\n",
    "6. `time_completed` (float)\n",
    "    - time of complete the offer\n",
    "    - **Values**: `NaN` represent not completed\n",
    "7. `amount_with_offer` (float)\n",
    "    - amount of transaction(s) within this transaction unit\n",
    "    - **Values**: '0.0' represent no transaction\n",
    "8. `label_effective_offer` (int)\n",
    "    - the label to mark the completion level of offer\n",
    "    - **Values**:\n",
    "        - `1`: \n",
    "            - for informational offer there is at least one transaction within duration; \n",
    "            - for other offer there should be 'offer completed'\n",
    "        - `0`: \n",
    "            - for informational offer there is no transaction but 'offer received'; \n",
    "            - for other offers there is no 'offer completed', but within duration there maybe some amount, although the amount of transactions not fulfil requirements\n",
    "        - `-1`: the init label, when there is no 'offer received', the label keeps '-1'\n",
    "        - `-2`: Special, some interesting discovering after the data was wrangled\n",
    "            - represent some people: they only have transactions within all the experimantal time , no offer was sent to them"
   ]
  },
  {
   "cell_type": "markdown",
   "metadata": {},
   "source": [
    "## Dataset II. transcript_offer(updated)\n",
    "\n",
    "```python\n",
    "### Code\n",
    "# Just show the updated part:\n",
    "normal_offer_id = target_dataset.offer_id.unique().tolist()   # ['0','1','2','3','4','5','6','7','8','9']\n",
    "# show transaction, the offer_id is not normal(some has been updated by wrangling)\n",
    "transcript_offer[~transcript_offer.offer_id.isin(normal_offer_id)].tail(20)\n",
    "```\n",
    "<img src=\"./images/transcript_offer.png\"/>\n",
    "Some values in column 'offer_id' are updated.<br>\n",
    "In figure, the value '6,5' represent:<br>\n",
    "　　this transaction is valid for two offer_ids: one is '6', another is '5'."
   ]
  },
  {
   "cell_type": "markdown",
   "metadata": {},
   "source": [
    "# <a class=\"anchor\" id=\"Table-Start\">Table of Contents</a>\n",
    "\n",
    "I. [Data Exploration](#Data-Exploration)<br>\n",
    "II.[Data Cleaning](#Data-Cleaning)<br>\n",
    "III.[Data Preprocessing](#Data-Preprocessing)<br>\n",
    "　　3.1. [Wrangle Data](#Wrangle-Data)<br>\n",
    "　　　　Method.1 [Using a moduled class](#Method-1-wrangle)<br>\n",
    "　　　　Method.2 [Based on following functions](#Method-2-wrangle) (better for debugging)<br>\n",
    "　　3.2. [Save the wrangled data](#Save-Data)<br>\n",
    "IV.[Explore the wrangled Data](#Wrangled-Data)(preliminary)<br>\n",
    "[References](#References)"
   ]
  },
  {
   "cell_type": "markdown",
   "metadata": {},
   "source": [
    "### Imports & Load in data"
   ]
  },
  {
   "cell_type": "code",
   "execution_count": null,
   "metadata": {},
   "outputs": [],
   "source": [
    "import pandas as pd\n",
    "import numpy as np\n",
    "import math\n",
    "import json\n",
    "\n",
    "from time import time\n",
    "from collections import defaultdict\n",
    "\n",
    "import matplotlib.pyplot as plt\n",
    "%matplotlib inline\n",
    "\n",
    "transcript_offer = pd.read_csv('./wrangled_transcript_offer.csv', dtype={'person': int})\n",
    "# recover to original dataset: index is the same\n",
    "transcript_offer.index = transcript_offer.iloc[:, 0].values\n",
    "del transcript_offer['Unnamed: 0']\n",
    "\n",
    "target_dataset = pd.read_csv('./modified_wrangled_target_dataset.csv', dtype={'person': int, 'offer_id': str})\n",
    "# recover to original dataset: index is the same\n",
    "target_dataset.index = target_dataset.iloc[:, 0].values\n",
    "del target_dataset['Unnamed: 0']"
   ]
  },
  {
   "cell_type": "code",
   "execution_count": null,
   "metadata": {},
   "outputs": [],
   "source": []
  },
  {
   "cell_type": "code",
   "execution_count": null,
   "metadata": {},
   "outputs": [],
   "source": []
  }
 ],
 "metadata": {
  "kernelspec": {
   "display_name": "Python 3",
   "language": "python",
   "name": "python3"
  },
  "language_info": {
   "codemirror_mode": {
    "name": "ipython",
    "version": 3
   },
   "file_extension": ".py",
   "mimetype": "text/x-python",
   "name": "python",
   "nbconvert_exporter": "python",
   "pygments_lexer": "ipython3",
   "version": "3.7.6"
  }
 },
 "nbformat": 4,
 "nbformat_minor": 4
}
