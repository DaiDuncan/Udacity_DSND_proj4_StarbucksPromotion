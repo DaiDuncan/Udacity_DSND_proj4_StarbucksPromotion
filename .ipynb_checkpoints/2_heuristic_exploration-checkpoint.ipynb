{
 "cells": [
  {
   "cell_type": "markdown",
   "metadata": {},
   "source": [
    "## Dataset I. target_dataset\n",
    "<br>\n",
    "<img src=\"./images/target_dataset.png\"/>\n",
    "\n",
    "Explanation for the columns:\n",
    "1. `person` (int)\n",
    "    - Id for person: already encoded to int number\n",
    "2. `offer_id` (object of str)\n",
    "    - Id for offer: already encoded to int number\n",
    "    - **Values**: from '0' to '9'\n",
    "3. `time_received` (float)\n",
    "    - time of reveiving the offer\n",
    "    - **Values**: `NaN` represent not received\n",
    "4. `time_viewed` (float) \n",
    "    - time of viewing the offer\n",
    "    - **Values**: `NaN` represent not viewed\n",
    "5. `time_transaction` (object of str)\n",
    "    - time of the transactions within an transaction unit(within one unique offer_id of one person, there may be more transaction units)\n",
    "    - **Values**: there maybe more than one transactions within a transaction unit, so use `str`(obeject) to represent\n",
    "        - `''` means there is no transaction\n",
    "        - `',3.8,5.9'` means there is two transactions, one is at time 3.8, another in at time 5.9\n",
    "6. `time_completed` (float)\n",
    "    - time of complete the offer\n",
    "    - **Values**: `NaN` represent not completed\n",
    "7. `amount_with_offer` (float)\n",
    "    - amount of transaction(s) within this transaction unit\n",
    "    - **Values**: '0.0' represent no transaction\n",
    "8. `label_effective_offer` (int)\n",
    "    - the label to mark the completion level of offer\n",
    "    - **Values**:\n",
    "        - `1`: \n",
    "            - for informational offer there is at least one transaction within duration; \n",
    "            - for other offer there should be 'offer completed'\n",
    "        - `0`: \n",
    "            - for informational offer there is no transaction but 'offer received'; \n",
    "            - for other offers there is no 'offer completed', but within duration there maybe some amount, although the amount of transactions not fulfil requirements\n",
    "        - `-1`: the init label, when there is no 'offer received', the label keeps '-1'\n",
    "        - `-2`: Special, some interesting discovering after the data was wrangled\n",
    "            - represent some people: they only have transactions within all the experimantal time , no offer was sent to them"
   ]
  },
  {
   "cell_type": "markdown",
   "metadata": {},
   "source": [
    "## Dataset II. transcript_offer(updated)\n",
    "\n",
    "```python\n",
    "### Code\n",
    "# Just show the updated part:\n",
    "normal_offer_id = target_dataset.offer_id.unique().tolist()   # ['0','1','2','3','4','5','6','7','8','9']\n",
    "# show transaction, the offer_id is not normal(some has been updated by wrangling)\n",
    "transcript_offer[~transcript_offer.offer_id.isin(normal_offer_id)].tail(20)\n",
    "```\n",
    "<img src=\"./images/transcript_offer.png\"/>\n",
    "Some values in column 'offer_id' are updated.<br>\n",
    "In figure, the value '6,5' represent:<br>\n",
    "　　this transaction is valid for two offer_ids: one is '6', another is '5'."
   ]
  },
  {
   "cell_type": "markdown",
   "metadata": {},
   "source": [
    "\n",
    "[TOC]\n"
   ]
  },
  {
   "cell_type": "markdown",
   "metadata": {},
   "source": [
    "# <a class=\"anchor\" id=\"0\">Table of Contents</a>\n",
    "\n",
    "I. [Feature Engineer](#1)<br>\n",
    "II.[Segement of the Person](#2)<br>\n",
    "III.[NAME](#3)<br>\n",
    "　　3.1. [NAME](#3.1)<br>\n",
    "　　　　Method.1 [NAME](#3.1.1)<br>\n",
    "　　　　Method.2 [NAME](#3.1.2) (better for debugging)<br>\n",
    "　　3.2. [Save the wrangled data](#3.2)<br>\n",
    "IV.[Explore the wrangled Data](#4)(preliminary)<br>\n",
    "[References](#References)"
   ]
  },
  {
   "cell_type": "markdown",
   "metadata": {},
   "source": [
    "### Imports & Load in data"
   ]
  },
  {
   "cell_type": "code",
   "execution_count": 1,
   "metadata": {},
   "outputs": [],
   "source": [
    "import pandas as pd\n",
    "import numpy as np\n",
    "import math\n",
    "import json\n",
    "\n",
    "from time import time\n",
    "from datetime import date\n",
    "from collections import defaultdict\n",
    "\n",
    "import seaborn as sb\n",
    "import matplotlib.pyplot as plt\n",
    "%matplotlib inline\n",
    "\n",
    "# detail for offers\n",
    "portfolio_raw = pd.read_csv('./data_generated/cleaned_portfolio.csv', dtype={'offer_id': str})\n",
    "del portfolio_raw['Unnamed: 0']\n",
    "\n",
    "# detail for person\n",
    "profile_raw = pd.read_csv('./data_generated/cleaned_profile.csv')\n",
    "del profile_raw['Unnamed: 0']\n",
    "\n",
    "# wrangled transcript with updated information of offer\n",
    "transcript_offer_raw = pd.read_csv('./data_generated/wrangled_transcript_offer.csv', dtype={'person': int})\n",
    "# recover to original dataset: index is the same\n",
    "transcript_offer_raw.index = transcript_offer_raw.iloc[:, 0].values\n",
    "del transcript_offer_raw['Unnamed: 0']\n",
    "\n",
    "# wrangled ideal target_dataset\n",
    "target_dataset_raw = pd.read_csv('./data_generated/modified_wrangled_target_dataset.csv', dtype={'person': int, 'offer_id': str})\n",
    "# recover to original dataset: index is the same\n",
    "target_dataset_raw.index = target_dataset_raw.iloc[:, 0].values\n",
    "del target_dataset_raw['Unnamed: 0']"
   ]
  },
  {
   "cell_type": "code",
   "execution_count": 2,
   "metadata": {},
   "outputs": [],
   "source": [
    "portfolio = portfolio_raw.copy()\n",
    "profile = profile_raw.copy()\n",
    "transcript_offer = transcript_offer_raw.copy()\n",
    "target_dataset = target_dataset_raw.copy()"
   ]
  },
  {
   "cell_type": "markdown",
   "metadata": {},
   "source": [
    "## <a class=\"anchor\" id=\"1\">[I. Feature Engineer](#0)</a>"
   ]
  },
  {
   "cell_type": "markdown",
   "metadata": {},
   "source": [
    "### 1. Potential feature \n",
    "- Transform column 'became_member_on' in `profile`"
   ]
  },
  {
   "cell_type": "code",
   "execution_count": 3,
   "metadata": {},
   "outputs": [],
   "source": [
    "# rename column for merging\n",
    "profile.rename(columns={'id': 'person'}, inplace=True)"
   ]
  },
  {
   "cell_type": "code",
   "execution_count": 4,
   "metadata": {},
   "outputs": [],
   "source": [
    "def transform_date(input_date):\n",
    "    '''Transform date(int) to normal date(date form)\n",
    "    '''\n",
    "    year = int(str(input_date)[:4])\n",
    "    month = int(str(input_date)[4:6])\n",
    "    day = int(str(input_date)[-2:])\n",
    "    actual_date = date(year, month, day)\n",
    "    \n",
    "    return actual_date"
   ]
  },
  {
   "cell_type": "code",
   "execution_count": 5,
   "metadata": {},
   "outputs": [
    {
     "data": {
      "text/html": [
       "<div>\n",
       "<style scoped>\n",
       "    .dataframe tbody tr th:only-of-type {\n",
       "        vertical-align: middle;\n",
       "    }\n",
       "\n",
       "    .dataframe tbody tr th {\n",
       "        vertical-align: top;\n",
       "    }\n",
       "\n",
       "    .dataframe thead th {\n",
       "        text-align: right;\n",
       "    }\n",
       "</style>\n",
       "<table border=\"1\" class=\"dataframe\">\n",
       "  <thead>\n",
       "    <tr style=\"text-align: right;\">\n",
       "      <th></th>\n",
       "      <th>gender</th>\n",
       "      <th>age</th>\n",
       "      <th>person</th>\n",
       "      <th>became_member_on</th>\n",
       "      <th>income</th>\n",
       "      <th>member_days</th>\n",
       "      <th>register_date</th>\n",
       "    </tr>\n",
       "  </thead>\n",
       "  <tbody>\n",
       "    <tr>\n",
       "      <th>0</th>\n",
       "      <td>F</td>\n",
       "      <td>55</td>\n",
       "      <td>1</td>\n",
       "      <td>20170715</td>\n",
       "      <td>112000.0</td>\n",
       "      <td>535</td>\n",
       "      <td>2017-07-15</td>\n",
       "    </tr>\n",
       "    <tr>\n",
       "      <th>1</th>\n",
       "      <td>F</td>\n",
       "      <td>75</td>\n",
       "      <td>3</td>\n",
       "      <td>20170509</td>\n",
       "      <td>100000.0</td>\n",
       "      <td>602</td>\n",
       "      <td>2017-05-09</td>\n",
       "    </tr>\n",
       "    <tr>\n",
       "      <th>2</th>\n",
       "      <td>M</td>\n",
       "      <td>68</td>\n",
       "      <td>5</td>\n",
       "      <td>20180426</td>\n",
       "      <td>70000.0</td>\n",
       "      <td>250</td>\n",
       "      <td>2018-04-26</td>\n",
       "    </tr>\n",
       "    <tr>\n",
       "      <th>3</th>\n",
       "      <td>M</td>\n",
       "      <td>65</td>\n",
       "      <td>8</td>\n",
       "      <td>20180209</td>\n",
       "      <td>53000.0</td>\n",
       "      <td>326</td>\n",
       "      <td>2018-02-09</td>\n",
       "    </tr>\n",
       "    <tr>\n",
       "      <th>4</th>\n",
       "      <td>M</td>\n",
       "      <td>58</td>\n",
       "      <td>12</td>\n",
       "      <td>20171111</td>\n",
       "      <td>51000.0</td>\n",
       "      <td>416</td>\n",
       "      <td>2017-11-11</td>\n",
       "    </tr>\n",
       "    <tr>\n",
       "      <th>...</th>\n",
       "      <td>...</td>\n",
       "      <td>...</td>\n",
       "      <td>...</td>\n",
       "      <td>...</td>\n",
       "      <td>...</td>\n",
       "      <td>...</td>\n",
       "      <td>...</td>\n",
       "    </tr>\n",
       "    <tr>\n",
       "      <th>14820</th>\n",
       "      <td>F</td>\n",
       "      <td>45</td>\n",
       "      <td>16995</td>\n",
       "      <td>20180604</td>\n",
       "      <td>54000.0</td>\n",
       "      <td>211</td>\n",
       "      <td>2018-06-04</td>\n",
       "    </tr>\n",
       "    <tr>\n",
       "      <th>14821</th>\n",
       "      <td>M</td>\n",
       "      <td>61</td>\n",
       "      <td>16996</td>\n",
       "      <td>20180713</td>\n",
       "      <td>72000.0</td>\n",
       "      <td>172</td>\n",
       "      <td>2018-07-13</td>\n",
       "    </tr>\n",
       "    <tr>\n",
       "      <th>14822</th>\n",
       "      <td>M</td>\n",
       "      <td>49</td>\n",
       "      <td>16997</td>\n",
       "      <td>20170126</td>\n",
       "      <td>73000.0</td>\n",
       "      <td>705</td>\n",
       "      <td>2017-01-26</td>\n",
       "    </tr>\n",
       "    <tr>\n",
       "      <th>14823</th>\n",
       "      <td>F</td>\n",
       "      <td>83</td>\n",
       "      <td>16998</td>\n",
       "      <td>20160307</td>\n",
       "      <td>50000.0</td>\n",
       "      <td>1030</td>\n",
       "      <td>2016-03-07</td>\n",
       "    </tr>\n",
       "    <tr>\n",
       "      <th>14824</th>\n",
       "      <td>F</td>\n",
       "      <td>62</td>\n",
       "      <td>16999</td>\n",
       "      <td>20170722</td>\n",
       "      <td>82000.0</td>\n",
       "      <td>528</td>\n",
       "      <td>2017-07-22</td>\n",
       "    </tr>\n",
       "  </tbody>\n",
       "</table>\n",
       "<p>14825 rows × 7 columns</p>\n",
       "</div>"
      ],
      "text/plain": [
       "      gender  age  person  became_member_on    income  member_days  \\\n",
       "0          F   55       1          20170715  112000.0          535   \n",
       "1          F   75       3          20170509  100000.0          602   \n",
       "2          M   68       5          20180426   70000.0          250   \n",
       "3          M   65       8          20180209   53000.0          326   \n",
       "4          M   58      12          20171111   51000.0          416   \n",
       "...      ...  ...     ...               ...       ...          ...   \n",
       "14820      F   45   16995          20180604   54000.0          211   \n",
       "14821      M   61   16996          20180713   72000.0          172   \n",
       "14822      M   49   16997          20170126   73000.0          705   \n",
       "14823      F   83   16998          20160307   50000.0         1030   \n",
       "14824      F   62   16999          20170722   82000.0          528   \n",
       "\n",
       "      register_date  \n",
       "0        2017-07-15  \n",
       "1        2017-05-09  \n",
       "2        2018-04-26  \n",
       "3        2018-02-09  \n",
       "4        2017-11-11  \n",
       "...             ...  \n",
       "14820    2018-06-04  \n",
       "14821    2018-07-13  \n",
       "14822    2017-01-26  \n",
       "14823    2016-03-07  \n",
       "14824    2017-07-22  \n",
       "\n",
       "[14825 rows x 7 columns]"
      ]
     },
     "execution_count": 5,
     "metadata": {},
     "output_type": "execute_result"
    }
   ],
   "source": [
    "# create funciton to transform the register date to member_days \n",
    "latest_date = profile['became_member_on'].max()  #20180726\n",
    "\n",
    "def transform_member_days(input_date, latest_date):\n",
    "    '''Transform the register date to member_days.\n",
    "    \n",
    "    INPUT:\n",
    "        - date (int): the register date, e.g. 20180726\n",
    "        - latest_date (int): the latest register date, 20180726\n",
    "    \n",
    "    OUTPUT:\n",
    "        - member_days (int): the days apart from the latest new year, 2019.01.01\n",
    "    '''\n",
    "    # suppose we use the begin of the next year as the experimental date, here is 2019.01.01\n",
    "    latest_year = int(str(latest_date)[:4]) + 1  # 2019: used to calculate\n",
    "    refer_date = date(latest_year, 1, 1)\n",
    "    \n",
    "    year = int(str(input_date)[:4])\n",
    "    month = int(str(input_date)[4:6])\n",
    "    day = int(str(input_date)[-2:])\n",
    "    actual_date = date(year, month, day)\n",
    "    \n",
    "    # get the date difference to the refer_date\n",
    "    member_days = (refer_date - actual_date).days\n",
    "\n",
    "    return member_days\n",
    "\n",
    "\n",
    "profile['member_days'] = profile['became_member_on'].apply(transform_member_days, args=(latest_date,))\n",
    "profile['register_date'] = profile['became_member_on'].apply(transform_date)\n",
    "\n",
    "profile"
   ]
  },
  {
   "cell_type": "code",
   "execution_count": 6,
   "metadata": {},
   "outputs": [
    {
     "data": {
      "image/png": "[encoded data removed]",
      "text/plain": [
       "<Figure size 864x288 with 2 Axes>"
      ]
     },
     "metadata": {
      "needs_background": "light"
     },
     "output_type": "display_data"
    }
   ],
   "source": [
    "plt.figure(figsize=(12,4))\n",
    "\n",
    "plt.subplot(1,2,1)\n",
    "plt.hist(data=profile, x='register_date')\n",
    "plt.title('Distribution of register date')\n",
    "plt.xlabel('register date')\n",
    "\n",
    "plt.subplot(1,2,2)\n",
    "plt.hist(data=profile, x='member_days')\n",
    "plt.title('Distribution of days as a member')\n",
    "plt.xlabel('days from register date to latest new year(2019.01.01)')\n",
    "\n",
    "plt.show()\n",
    "\n",
    "# after visualization delete useless columns\n",
    "profile.drop(columns=['became_member_on', 'register_date'], inplace=True )"
   ]
  },
  {
   "cell_type": "markdown",
   "metadata": {},
   "source": [
    "### 2. Merge the dataset to combine all the potential features "
   ]
  },
  {
   "cell_type": "code",
   "execution_count": 7,
   "metadata": {},
   "outputs": [],
   "source": [
    "target_dataset = target_dataset.merge(portfolio, how='left', on='offer_id').merge(profile, how='left', on='person')\n",
    "\n",
    "# update time_completed for informational effctive offers\n",
    "# for informational offer, time_transaction(only one) is time_completed\n",
    "is_change_time_complete = (target_dataset.offer_id.isin(['2','7'])) & (target_dataset.label_effective_offer == 1)\n",
    "target_dataset.loc[is_change_time_complete, 'time_completed'] = target_dataset[is_change_time_complete]['time_transaction'].apply(lambda x: float(x))"
   ]
  },
  {
   "cell_type": "markdown",
   "metadata": {},
   "source": [
    "## <a class=\"anchor\" id=\"2\">[II. Segement of the Person](#0)</a>\n",
    "Since there are too many individuals, it's better to set some customer groups to excavate more common pattern in each group.<br>\n",
    "According to [References[1]](https://github.com/syuenloh/UdacityDataScientistCapstone/blob/master/Starbucks%20Capstone%20Challenge%20-%20Using%20Starbucks%20app%20user%20data%20to%20predict%20effective%20offers.ipynb) and [References[3]](https://www.pewresearch.org/topics/generations-and-age/), there is a definition of generations based on age in 2019.\n",
    "<img src=\"./images/generations_age.png\"/>"
   ]
  },
  {
   "cell_type": "markdown",
   "metadata": {},
   "source": [
    "### 1. Segment of target_dataset based on 'age' and 'gender' "
   ]
  },
  {
   "cell_type": "code",
   "execution_count": null,
   "metadata": {},
   "outputs": [],
   "source": [
    "# distribution of age according to the definition of generations\n",
    "# in 2018 the age edge as bins\n",
    "age_min=target_dataset.age.min()  #18\n",
    "age_max=target_dataset.age.max() #101\n",
    "bins = [age_min, 22, 38, 54, 73, 91, age_max+1]\n",
    "plt.hist(data=target_dataset, x='age' ,bins=bins);\n",
    "\n",
    "plt.title('distributions of ages by generation groups')\n",
    "plt.xlabel('generations')\n",
    "\n",
    "ticks_loc = [20, 30, 46, 63.5, 82, 96.5]\n",
    "ticks_label = ['gen Z', 'millenials(gen Y)', 'gen X', 'boomers', 'silent']\n",
    "plt.xticks(ticks_loc, ticks_label, rotation=30) #rotation=90\n",
    "\n",
    "plt.show()"
   ]
  },
  {
   "cell_type": "markdown",
   "metadata": {},
   "source": [
    "Meantime, we can use also other informations(gender, income, member_days etc.) together to divide customer groups.<br>\n",
    "Since the groups of `gen Z`(18-21) and the elder than `silent` are small, and the age is closed to the generation group nearby, so we finally make the segement as follows:\n",
    "- age\n",
    "- gender\n",
    "\n",
    "|Segment #| Age Group (edge included)<br> (Experiment in 2018) | Gender | \n",
    "|---| --- | --- | \n",
    "|1| Millenials(-21 & 22-37) | M | \n",
    "|2| Millenials(-21 & 22-37) | F | \n",
    "|3| Millenials(-21 & 22-37) | O | \n",
    "|4| Gen X(38-53) | M|\n",
    "|5| Gen X(38-53) | F|\n",
    "|6| Gen X(38-53) | O|\n",
    "|7| Baby Boomer(54-72) | M|\n",
    "|8| Baby Boomer(54-72) | F|\n",
    "|9| Baby Boomer(54-72) | O|\n",
    "|10| Silent(73-90 & 91+) | M|\n",
    "|11| Silent(73-90 & 91+) | F|\n",
    "|12| Silent(73-90 & 91+) | O|"
   ]
  },
  {
   "cell_type": "code",
   "execution_count": null,
   "metadata": {},
   "outputs": [],
   "source": [
    "def segment_person(target_dataset):\n",
    "    '''Make a segment to target_dataset.\n",
    "    \n",
    "    INPUT:\n",
    "        - target_dataset(DataFrame)\n",
    "    OUTPUT:\n",
    "        - df_segments(list of DataFrame)\n",
    "    '''\n",
    "    df_segments=[]\n",
    "    is_gender_M = (target_dataset.gender == 'M')\n",
    "    is_gender_F = (target_dataset.gender == 'F')\n",
    "    is_gender_O = (target_dataset.gender == 'O')\n",
    "    \n",
    "    age_min=target_dataset.age.min()  #18\n",
    "    age_max=target_dataset.age.max() #101\n",
    "    bins_begin = [age_min, 38, 54, 73]\n",
    "    bins_end  = [38, 54, 73, age_max+1]\n",
    "    for ages_begin, ages_end in zip(bins_begin, bins_end):\n",
    "        is_generation = (target_dataset.age >= ages_begin) & (target_dataset.age < ages_end)\n",
    "        df_segments.append(target_dataset[is_generation][is_gender_M])\n",
    "        df_segments.append(target_dataset[is_generation][is_gender_F])\n",
    "        df_segments.append(target_dataset[is_generation][is_gender_O])\n",
    "    \n",
    "    return df_segments \n",
    "\n",
    "df_segments = segment_person(target_dataset)"
   ]
  },
  {
   "cell_type": "code",
   "execution_count": null,
   "metadata": {},
   "outputs": [],
   "source": [
    "count_segments = []\n",
    "for idx in range(0, 12):\n",
    "    count_segments.append(df_segments[idx].shape[0])"
   ]
  },
  {
   "cell_type": "code",
   "execution_count": null,
   "metadata": {},
   "outputs": [],
   "source": [
    "count_segments"
   ]
  },
  {
   "cell_type": "code",
   "execution_count": null,
   "metadata": {},
   "outputs": [],
   "source": [
    "ax = (pd.Series(count_segments)).plot(kind=\"bar\", rot=0);\n",
    "xticks_loc = range(1, 11, 3)\n",
    "xticks_label = ['Millenials', 'Gen X', 'Boomer', 'Silent']\n",
    "\n",
    "ax.set_title('Distribution of the Segments')\n",
    "ax.set_xlabel('each Generations include gender: M F O')\n",
    "ax.set_xticks(xticks_loc)\n",
    "ax.set_xticklabels(xticks_label)"
   ]
  },
  {
   "cell_type": "markdown",
   "metadata": {},
   "source": [
    "- Get the DataFrames of segment `df_segments[0...11]`\n",
    "- FOUND\n",
    "    - the distribution of gender is huge unbalanced because of less number of gender 'O'. For heuristic analyzation is not a big problem."
   ]
  },
  {
   "cell_type": "markdown",
   "metadata": {},
   "source": [
    "### 2. Responsiveness to the 10 kinds of offers\n",
    "The all possible responsiveness defined as follows:<br>\n",
    "\n",
    "|Group| received | viewed |valid completed | transaction amount |Scenario |\n",
    "| :-| :-: | :-:| :-: | :-: | :- |\n",
    "|1.none_offer| 0 | 0 | 0 | |haven't received the offer |\n",
    "| | 1 | 0 | - | |received but not viewed.<br> regarded as none_offer|\n",
    "|2.no_care| 1 | 1 | 0 | =0.0 | received, viewed but no transaction |\n",
    "|3.tried| 1 | 1 | 0 | >0.0|received, viewed, have transaction |\n",
    "|4.effctive_offer | 1 | 1 | 1 | | viewed before completed, that's effctive offer, otherwise regared as no_care |\n",
    "\n",
    "**NOTE：**\n",
    "1. **'valid completed'**, means complete within the duration of the offer<br>\n",
    "2. States like 0,0,1 or 0,1,0 or 0,1,1 are impossible in reality.\n",
    "3. `label_effective_offer == '1'` means received and valid completed<br>\n",
    "(More details at the begining of explanation for the datasets)"
   ]
  },
  {
   "cell_type": "markdown",
   "metadata": {},
   "source": [
    "1. `none_offer`(passive)<br>\n",
    "    - I. not viewed, no matter received or not.\n",
    "        - `time_viewed` == NaN\n",
    "2. `no_care`(active)<br>\n",
    "    - I. reveived, viewed, but no transaction\n",
    "        - `label_effective_offer` == '0' & `amount` == 0.0\n",
    "    - II. received, viewed, completed but viewed time after completed time\n",
    "        - `label_effective_offer` == '1' & `time_viewed` > `time_completed`\n",
    "3. `tried`<br>\n",
    "    - I. received, viewed, have transaction but not valid completed\n",
    "        - `label_effective_offer` == '0' & `amount` > 0.0\n",
    "4. `effctive_offer`<br>\n",
    "    - I. received, viewed, and completed, besides viewed time before completed time\n",
    "        - `label_effective_offer` == '1' & `time_viewed` < `time_completed`"
   ]
  },
  {
   "cell_type": "markdown",
   "metadata": {},
   "source": [
    "#### 2.1 Divide the response into 4 groups"
   ]
  },
  {
   "cell_type": "code",
   "execution_count": null,
   "metadata": {},
   "outputs": [],
   "source": [
    "def group_none_offer(list_dfs):\n",
    "    '''\n",
    "    '''\n",
    "    # viewed time is NaN\n",
    "    grouped_segment = []\n",
    "    for df_segment in list_dfs:\n",
    "        is_group = df_segment.time_viewed.isna()  #.isnull() .isna(); np.nan()\n",
    "        grouped_segment.append(df_segment[is_group])\n",
    "    \n",
    "    return grouped_segment"
   ]
  },
  {
   "cell_type": "code",
   "execution_count": null,
   "metadata": {},
   "outputs": [],
   "source": [
    "def group_no_care(list_dfs):\n",
    "    '''\n",
    "    '''\n",
    "    # \n",
    "    grouped_segment = []\n",
    "    for df_segment in list_dfs:\n",
    "        is_group_no_trans = (df_segment.label_effective_offer == '0') & (df_segment.amount_with_offer == 0)\n",
    "        is_group_later_view = (df_segment.label_effective_offer == '1') & (df_segment.time_viewed > df_segment.time_completed)\n",
    "        is_group = is_group_no_trans & is_group_later_view\n",
    "        grouped_segment.append(df_segment[is_group])\n",
    "    \n",
    "    return grouped_segment"
   ]
  },
  {
   "cell_type": "code",
   "execution_count": null,
   "metadata": {},
   "outputs": [],
   "source": [
    "def group_tried(list_dfs):\n",
    "    '''\n",
    "    '''\n",
    "    #\n",
    "    grouped_segment = []\n",
    "    for df_segment in list_dfs:\n",
    "        is_group = (df_segment.label_effective_offer == '0') & (df_segment.amount_with_offer > 0)\n",
    "        grouped_segment.append(df_segment[is_group])\n",
    "    \n",
    "    return grouped_segment"
   ]
  },
  {
   "cell_type": "code",
   "execution_count": null,
   "metadata": {},
   "outputs": [],
   "source": [
    "def group_effctive_offer(list_dfs):\n",
    "    '''\n",
    "    '''\n",
    "    #\n",
    "    grouped_segment = []\n",
    "    for df_segment in list_dfs:\n",
    "        is_group = (df_segment.label_effective_offer == '1') & (df_segment.time_viewed <= df_segment.time_completed)\n",
    "        grouped_segment.append(df_segment[is_group])\n",
    "    \n",
    "    return grouped_segment"
   ]
  },
  {
   "cell_type": "code",
   "execution_count": null,
   "metadata": {},
   "outputs": [],
   "source": [
    "none_offer_segments = group_none_offer(df_segments)\n",
    "no_care_segments = group_no_care(df_segments)\n",
    "tried_segments = group_tried(df_segments)\n",
    "none_offer_segments = group_effctive_offer(df_segments)"
   ]
  },
  {
   "cell_type": "code",
   "execution_count": null,
   "metadata": {},
   "outputs": [],
   "source": [
    "a = df_segments[1][df_segments[1].time_viewed.isna()].groupby('offer_id')"
   ]
  },
  {
   "cell_type": "code",
   "execution_count": null,
   "metadata": {},
   "outputs": [],
   "source": [
    "a.get_group('1')"
   ]
  },
  {
   "cell_type": "code",
   "execution_count": null,
   "metadata": {},
   "outputs": [],
   "source": []
  },
  {
   "cell_type": "markdown",
   "metadata": {},
   "source": [
    "## <a class=\"anchor\" id=\"References\">[References](#0)</a>\n",
    "[[1]Starbucks Capstone Challenge: Using Starbucks app user data to predict effective offers](https://github.com/syuenloh/UdacityDataScientistCapstone/blob/master/Starbucks%20Capstone%20Challenge%20-%20Using%20Starbucks%20app%20user%20data%20to%20predict%20effective%20offers.ipynb)<br>\n",
    "[[2]Starbucks Promotion Optimization](https://towardsdatascience.com/starbucks-promotion-optimization-ca56e29fb584)<br>\n",
    "[[3]generations-and-age](https://www.pewresearch.org/topics/generations-and-age/)<br>\n",
    "[[4]single taxable income](https://en.wikipedia.org/wiki/Income_tax_in_the_United_States#Marginal_tax_rates_for_2019)"
   ]
  },
  {
   "cell_type": "markdown",
   "metadata": {},
   "source": [
    "According to [References[4]](https://en.wikipedia.org/wiki/Income_tax_in_the_United_States#Marginal_tax_rates_for_2019), we get the `single taxable income` of Americans in 2018.\n",
    "<img src='./images/tax.png'>"
   ]
  },
  {
   "cell_type": "code",
   "execution_count": null,
   "metadata": {},
   "outputs": [],
   "source": [
    "min_income = target_dataset.income.min() #30,000\n",
    "max_income = target_dataset.income.max() #120,000\n",
    "\n",
    "bins = [min_income, 38701, 82501, max_income+1]\n",
    "target_dataset.income.hist(bins=bins)"
   ]
  },
  {
   "cell_type": "markdown",
   "metadata": {},
   "source": [
    "# 补充\n",
    "1. 更新target_dataset中informational offer的time_complete\n",
    "2. 替换column中subset的值\n",
    "    - using .loc[row_indexer,col_indexer] = value instead"
   ]
  }
 ],
 "metadata": {
  "kernelspec": {
   "display_name": "Python 3",
   "language": "python",
   "name": "python3"
  },
  "language_info": {
   "codemirror_mode": {
    "name": "ipython",
    "version": 3
   },
   "file_extension": ".py",
   "mimetype": "text/x-python",
   "name": "python",
   "nbconvert_exporter": "python",
   "pygments_lexer": "ipython3",
   "version": "3.7.6"
  }
 },
 "nbformat": 4,
 "nbformat_minor": 4
}
