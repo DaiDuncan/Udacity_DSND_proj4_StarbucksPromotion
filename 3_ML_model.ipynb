{
 "cells": [
  {
   "cell_type": "markdown",
   "metadata": {},
   "source": [
    "## Dataset. model_dataset\n",
    "<br>\n",
    "<img src=\"./images/model_dataset.png\"/>\n",
    "\n",
    "Part explanation for the columns:  \n",
    "1. label_group (obeject): 4 groups of resonse to offers\n",
    "    - 'none_offer'\n",
    "    - 'no_care'\n",
    "    - 'tried'\n",
    "    - 'effective_offer'\n",
    "2. label_seg (int): 12 segments based on age and gender\n",
    "    - values: 1 ... 12  <br>  \n",
    "  \n",
    "(More details in 2_heuristic_exploration.ipynb)"
   ]
  },
  {
   "cell_type": "markdown",
   "metadata": {},
   "source": [
    "###  <u>10 Kinds</u> of offer_id\n",
    "| offer_id #| type | duration | requirement | reward |\n",
    "|:-| :-| :-:|:-:|:-:|\n",
    "| 0 | bogo | 7 | 10 | 10 |\n",
    "| 1 | bogo | 5 | 10 | 10 |\n",
    "| 2 | infomational | 4 | - | - |\n",
    "| 3 | bogo | 7 | 5 | 5 |\n",
    "| 4 | discount | 10 | 20 | 5 |\n",
    "| 5 | discount | 7 | 7 | 3 |\n",
    "| 6 | discount | 10 | 10 | 2 |\n",
    "| 7 | informational | 3 | - | - |\n",
    "| 8 | bogo | 5 | 5 | 5 |\n",
    "| 9 | discount | 7 | 10 | 2 |"
   ]
  },
  {
   "cell_type": "markdown",
   "metadata": {},
   "source": [
    "### <u>12 Segements</u> based on 'age' and 'gender'\n",
    "<br>\n",
    "    \n",
    "|Segment #| Age Group (edge included)<br> (Experiment in 2018) | Gender | \n",
    "|---| --- | --- | \n",
    "|1| Millenials(-21 & 22-37) | M | \n",
    "|2| Millenials(-21 & 22-37) | F | \n",
    "|3| Millenials(-21 & 22-37) | O | \n",
    "|4| Gen X(38-53) | M|\n",
    "|5| Gen X(38-53) | F|\n",
    "|6| Gen X(38-53) | O|\n",
    "|7| Baby Boomer(54-72) | M|\n",
    "|8| Baby Boomer(54-72) | F|\n",
    "|9| Baby Boomer(54-72) | O|\n",
    "|10| Silent(73-90 & 91+) | M|\n",
    "|11| Silent(73-90 & 91+) | F|\n",
    "|12| Silent(73-90 & 91+) | O|"
   ]
  },
  {
   "cell_type": "markdown",
   "metadata": {},
   "source": [
    "### <u>4 Groups</u> of possible responsiveness to offer\n",
    "<br>\n",
    "\n",
    "|Group| received | viewed |valid completed | transaction amount |Scenario |\n",
    "| :-| :-: | :-:| :-: | :-: | :- |\n",
    "|1.none_offer| 0 | 0 | 0 | |haven't received the offer |\n",
    "|2.no_care | 1 | 0 | - | |received but not viewed.<br> regarded as no_care|\n",
    "|| 1 | 1 | 0 | =0.0 | received, viewed but no transaction |\n",
    "|| 1 | 1 | 1<br>viewed after completed |  | received, but completed unintentionally |\n",
    "|3.tried| 1 | 1 | 0 | >0.0|received, viewed, have transaction |\n",
    "|4.effctive_offer | 1 | 1 | 1<br>viewed before completed | | viewed before completed,  effctive offer|"
   ]
  },
  {
   "cell_type": "markdown",
   "metadata": {},
   "source": [
    "# <a class=\"anchor\" id=\"Start\">Table of Contents</a>\n",
    "\n",
    "I. [Feature Engineer](#1)<br>\n",
    "II.[Segement of the Person](#2)<br>\n",
    "III.[Classes of responsiveness to the offers](#3)<br>\n",
    "   1. [Divide the response into 4 groups](#3.1)<br>\n",
    "   2. [CHECK the dividing method for the 4 groups of response to offer](#3.2)<br>\n",
    "   3. [Heuristic exploration in 4 aspects](#3.3)<br>\n",
    "    - 3.1 [Offer Distributions: none_offer VS. others](#3.3.1)<br>\n",
    "        - Conclusion<br>\n",
    "    - 3.2 [Interest Distributions: no_care VS. (tried & effective_offer)](#3.3.2)<br>\n",
    "        - Conclusion<br>\n",
    "    - 3.3 [Difficulty Distributions: tried VS. effective_offer](#3.3.3)<br>\n",
    "        - Conclusion<br>\n",
    "    - 3.4 [Index NIR: Is the offer significant popular?](#3.3.4)<br>\n",
    "        - Conclusion<br>\n",
    "    \n",
    "IV.[Save the dataset for ML modeling](#4)<br>\n",
    "[References](#References)"
   ]
  },
  {
   "cell_type": "code",
   "execution_count": 4,
   "metadata": {},
   "outputs": [],
   "source": [
    "import pandas as pd\n",
    "import numpy as np\n",
    "import math\n",
    "import json\n",
    "\n",
    "from time import time\n",
    "from datetime import date\n",
    "from collections import defaultdict\n",
    "\n",
    "import seaborn as sb\n",
    "import matplotlib.pyplot as plt\n",
    "%matplotlib inline\n",
    "\n",
    "model_dataset_raw = pd.read_csv('./data_generated/model_raw_dataset.csv', dtype={'offer_id': str})"
   ]
  },
  {
   "cell_type": "code",
   "execution_count": 6,
   "metadata": {
    "collapsed": true
   },
   "outputs": [
    {
     "name": "stdout",
     "output_type": "stream",
     "text": [
      "<class 'pandas.core.frame.DataFrame'>\n",
      "RangeIndex: 66506 entries, 0 to 66505\n",
      "Data columns (total 22 columns):\n",
      " #   Column                 Non-Null Count  Dtype  \n",
      "---  ------                 --------------  -----  \n",
      " 0   person                 66506 non-null  int64  \n",
      " 1   offer_id               66506 non-null  object \n",
      " 2   time_received          66501 non-null  float64\n",
      " 3   time_viewed            49860 non-null  float64\n",
      " 4   time_transaction       57752 non-null  object \n",
      " 5   time_completed         40407 non-null  float64\n",
      " 6   amount_with_offer      66506 non-null  float64\n",
      " 7   label_effective_offer  66506 non-null  int64  \n",
      " 8   reward                 66501 non-null  float64\n",
      " 9   difficulty             66501 non-null  float64\n",
      " 10  duration               66501 non-null  float64\n",
      " 11  offer_type             66501 non-null  object \n",
      " 12  email                  66501 non-null  float64\n",
      " 13  mobile                 66501 non-null  float64\n",
      " 14  social                 66501 non-null  float64\n",
      " 15  web                    66501 non-null  float64\n",
      " 16  gender                 66506 non-null  object \n",
      " 17  age                    66506 non-null  int64  \n",
      " 18  income                 66506 non-null  float64\n",
      " 19  member_days            66506 non-null  int64  \n",
      " 20  label_group            66506 non-null  object \n",
      " 21  label_seg              66506 non-null  int64  \n",
      "dtypes: float64(12), int64(5), object(5)\n",
      "memory usage: 11.2+ MB\n"
     ]
    }
   ],
   "source": [
    "model_dataset_raw.info()"
   ]
  },
  {
   "cell_type": "markdown",
   "metadata": {},
   "source": [
    "## <a class=\"anchor\" id=\"1\">[I. Feature Engineer](#Start)</a>"
   ]
  },
  {
   "cell_type": "code",
   "execution_count": null,
   "metadata": {},
   "outputs": [],
   "source": []
  },
  {
   "cell_type": "code",
   "execution_count": null,
   "metadata": {},
   "outputs": [],
   "source": []
  },
  {
   "cell_type": "code",
   "execution_count": null,
   "metadata": {},
   "outputs": [],
   "source": []
  },
  {
   "cell_type": "markdown",
   "metadata": {},
   "source": [
    "## <a class=\"anchor\" id=\"References\">[References](#Start)</a>\n",
    "[[1]Starbucks Capstone Challenge: Using Starbucks app user data to predict effective offers](https://github.com/syuenloh/UdacityDataScientistCapstone/blob/master/Starbucks%20Capstone%20Challenge%20-%20Using%20Starbucks%20app%20user%20data%20to%20predict%20effective%20offers.ipynb)<br>\n"
   ]
  }
 ],
 "metadata": {
  "kernelspec": {
   "display_name": "Python 3",
   "language": "python",
   "name": "python3"
  },
  "language_info": {
   "codemirror_mode": {
    "name": "ipython",
    "version": 3
   },
   "file_extension": ".py",
   "mimetype": "text/x-python",
   "name": "python",
   "nbconvert_exporter": "python",
   "pygments_lexer": "ipython3",
   "version": "3.7.6"
  }
 },
 "nbformat": 4,
 "nbformat_minor": 4
}
